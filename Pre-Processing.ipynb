{
 "cells": [
  {
   "cell_type": "markdown",
   "id": "b557d689",
   "metadata": {},
   "source": [
    "# Important Libraries"
   ]
  },
  {
   "cell_type": "code",
   "execution_count": 1,
   "id": "064c3711-da77-4aa0-9352-6ce6376a5317",
   "metadata": {},
   "outputs": [],
   "source": [
    "import pandas as pd\n",
    "import nltk\n",
    "import string\n",
    "import time\n",
    "from tqdm import tqdm\n",
    "import numpy as np\n",
    "import os\n",
    "import tempfile\n",
    "import nltk\n",
    "from nltk.corpus import stopwords\n",
    "from nltk.tokenize import word_tokenize\n"
   ]
  },
  {
   "cell_type": "code",
   "execution_count": null,
   "id": "f74108b1",
   "metadata": {},
   "outputs": [],
   "source": []
  },
  {
   "cell_type": "markdown",
   "id": "2829ee96",
   "metadata": {},
   "source": [
    "# Select Relevent Columns"
   ]
  },
  {
   "cell_type": "code",
   "execution_count": 6,
   "id": "5d7e7083-591d-463d-ad6c-d07d3c1ab869",
   "metadata": {},
   "outputs": [
    {
     "data": {
      "text/html": [
       "<div>\n",
       "<style scoped>\n",
       "    .dataframe tbody tr th:only-of-type {\n",
       "        vertical-align: middle;\n",
       "    }\n",
       "\n",
       "    .dataframe tbody tr th {\n",
       "        vertical-align: top;\n",
       "    }\n",
       "\n",
       "    .dataframe thead th {\n",
       "        text-align: right;\n",
       "    }\n",
       "</style>\n",
       "<table border=\"1\" class=\"dataframe\">\n",
       "  <thead>\n",
       "    <tr style=\"text-align: right;\">\n",
       "      <th></th>\n",
       "      <th>ARTICLE_ID</th>\n",
       "      <th>TITLE</th>\n",
       "      <th>SECTION_TITLE</th>\n",
       "      <th>SECTION_TEXT</th>\n",
       "    </tr>\n",
       "  </thead>\n",
       "  <tbody>\n",
       "    <tr>\n",
       "      <th>0</th>\n",
       "      <td>0</td>\n",
       "      <td>Anarchism</td>\n",
       "      <td>Introduction</td>\n",
       "      <td>\\n\\n\\n\\n\\n\\n'''Anarchism''' is a political phi...</td>\n",
       "    </tr>\n",
       "    <tr>\n",
       "      <th>1</th>\n",
       "      <td>0</td>\n",
       "      <td>Anarchism</td>\n",
       "      <td>Etymology and terminology</td>\n",
       "      <td>\\n\\nThe term ''anarchism'' is a compound word ...</td>\n",
       "    </tr>\n",
       "    <tr>\n",
       "      <th>2</th>\n",
       "      <td>0</td>\n",
       "      <td>Anarchism</td>\n",
       "      <td>History</td>\n",
       "      <td>\\n\\n===Origins===\\nWoodcut from a Diggers docu...</td>\n",
       "    </tr>\n",
       "    <tr>\n",
       "      <th>3</th>\n",
       "      <td>0</td>\n",
       "      <td>Anarchism</td>\n",
       "      <td>Anarchist schools of thought</td>\n",
       "      <td>\\nPortrait of philosopher Pierre-Joseph Proudh...</td>\n",
       "    </tr>\n",
       "    <tr>\n",
       "      <th>4</th>\n",
       "      <td>0</td>\n",
       "      <td>Anarchism</td>\n",
       "      <td>Internal issues and debates</td>\n",
       "      <td>\\nconsistent with anarchist values is a contro...</td>\n",
       "    </tr>\n",
       "  </tbody>\n",
       "</table>\n",
       "</div>"
      ],
      "text/plain": [
       "   ARTICLE_ID      TITLE                 SECTION_TITLE  \\\n",
       "0           0  Anarchism                  Introduction   \n",
       "1           0  Anarchism     Etymology and terminology   \n",
       "2           0  Anarchism                       History   \n",
       "3           0  Anarchism  Anarchist schools of thought   \n",
       "4           0  Anarchism   Internal issues and debates   \n",
       "\n",
       "                                        SECTION_TEXT  \n",
       "0  \\n\\n\\n\\n\\n\\n'''Anarchism''' is a political phi...  \n",
       "1  \\n\\nThe term ''anarchism'' is a compound word ...  \n",
       "2  \\n\\n===Origins===\\nWoodcut from a Diggers docu...  \n",
       "3  \\nPortrait of philosopher Pierre-Joseph Proudh...  \n",
       "4  \\nconsistent with anarchist values is a contro...  "
      ]
     },
     "execution_count": 6,
     "metadata": {},
     "output_type": "execute_result"
    }
   ],
   "source": [
    "file_path = r\"D:\\Study Material\\semester 6\\Big Data\\Assignments\\Ass2\\dataset.csv\"\n",
    "\n",
    "# Read the CSV file into a DataFrame\n",
    "df = pd.read_csv(file_path)\n",
    "\n",
    "# Display the first few rows of the DataFrame\n",
    "df.head()"
   ]
  },
  {
   "cell_type": "code",
   "execution_count": 7,
   "id": "82891afc-9083-417d-b893-bf5962c0dd29",
   "metadata": {},
   "outputs": [
    {
     "data": {
      "text/html": [
       "<div>\n",
       "<style scoped>\n",
       "    .dataframe tbody tr th:only-of-type {\n",
       "        vertical-align: middle;\n",
       "    }\n",
       "\n",
       "    .dataframe tbody tr th {\n",
       "        vertical-align: top;\n",
       "    }\n",
       "\n",
       "    .dataframe thead th {\n",
       "        text-align: right;\n",
       "    }\n",
       "</style>\n",
       "<table border=\"1\" class=\"dataframe\">\n",
       "  <thead>\n",
       "    <tr style=\"text-align: right;\">\n",
       "      <th></th>\n",
       "      <th>ARTICLE_ID</th>\n",
       "      <th>TITLE</th>\n",
       "      <th>SECTION_TITLE</th>\n",
       "      <th>SECTION_TEXT</th>\n",
       "    </tr>\n",
       "  </thead>\n",
       "  <tbody>\n",
       "    <tr>\n",
       "      <th>0</th>\n",
       "      <td>0</td>\n",
       "      <td>Anarchism</td>\n",
       "      <td>Introduction</td>\n",
       "      <td>\\n\\n\\n\\n\\n\\n'''Anarchism''' is a political phi...</td>\n",
       "    </tr>\n",
       "    <tr>\n",
       "      <th>1</th>\n",
       "      <td>0</td>\n",
       "      <td>Anarchism</td>\n",
       "      <td>Etymology and terminology</td>\n",
       "      <td>\\n\\nThe term ''anarchism'' is a compound word ...</td>\n",
       "    </tr>\n",
       "    <tr>\n",
       "      <th>2</th>\n",
       "      <td>0</td>\n",
       "      <td>Anarchism</td>\n",
       "      <td>History</td>\n",
       "      <td>\\n\\n===Origins===\\nWoodcut from a Diggers docu...</td>\n",
       "    </tr>\n",
       "    <tr>\n",
       "      <th>3</th>\n",
       "      <td>0</td>\n",
       "      <td>Anarchism</td>\n",
       "      <td>Anarchist schools of thought</td>\n",
       "      <td>\\nPortrait of philosopher Pierre-Joseph Proudh...</td>\n",
       "    </tr>\n",
       "    <tr>\n",
       "      <th>4</th>\n",
       "      <td>0</td>\n",
       "      <td>Anarchism</td>\n",
       "      <td>Internal issues and debates</td>\n",
       "      <td>\\nconsistent with anarchist values is a contro...</td>\n",
       "    </tr>\n",
       "    <tr>\n",
       "      <th>...</th>\n",
       "      <td>...</td>\n",
       "      <td>...</td>\n",
       "      <td>...</td>\n",
       "      <td>...</td>\n",
       "    </tr>\n",
       "    <tr>\n",
       "      <th>4999995</th>\n",
       "      <td>816930</td>\n",
       "      <td>Vergulde Draeck</td>\n",
       "      <td>The wrecking of the Vergulde Draeck</td>\n",
       "      <td>In 1656 the Vergulde Draeck set sail from the ...</td>\n",
       "    </tr>\n",
       "    <tr>\n",
       "      <th>4999996</th>\n",
       "      <td>816930</td>\n",
       "      <td>Vergulde Draeck</td>\n",
       "      <td>Arrival in Batavia</td>\n",
       "      <td>On 7 May 1656 approximately nine days after th...</td>\n",
       "    </tr>\n",
       "    <tr>\n",
       "      <th>4999997</th>\n",
       "      <td>816930</td>\n",
       "      <td>Vergulde Draeck</td>\n",
       "      <td>Rescue Attempts</td>\n",
       "      <td>A number of rescue attempts was conducted by t...</td>\n",
       "    </tr>\n",
       "    <tr>\n",
       "      <th>4999998</th>\n",
       "      <td>816930</td>\n",
       "      <td>Vergulde Draeck</td>\n",
       "      <td>Discovery of the Vergulde Draeck</td>\n",
       "      <td>The Vergulde Draeck was discovered on 13 April...</td>\n",
       "    </tr>\n",
       "    <tr>\n",
       "      <th>4999999</th>\n",
       "      <td>816930</td>\n",
       "      <td>Vergulde Draeck</td>\n",
       "      <td>Letters written by the survivors of the Vergul...</td>\n",
       "      <td>In March 2015 Steve Caffery of Gilt Dragon Res...</td>\n",
       "    </tr>\n",
       "  </tbody>\n",
       "</table>\n",
       "<p>5000000 rows × 4 columns</p>\n",
       "</div>"
      ],
      "text/plain": [
       "         ARTICLE_ID            TITLE  \\\n",
       "0                 0        Anarchism   \n",
       "1                 0        Anarchism   \n",
       "2                 0        Anarchism   \n",
       "3                 0        Anarchism   \n",
       "4                 0        Anarchism   \n",
       "...             ...              ...   \n",
       "4999995      816930  Vergulde Draeck   \n",
       "4999996      816930  Vergulde Draeck   \n",
       "4999997      816930  Vergulde Draeck   \n",
       "4999998      816930  Vergulde Draeck   \n",
       "4999999      816930  Vergulde Draeck   \n",
       "\n",
       "                                             SECTION_TITLE  \\\n",
       "0                                             Introduction   \n",
       "1                                Etymology and terminology   \n",
       "2                                                  History   \n",
       "3                             Anarchist schools of thought   \n",
       "4                              Internal issues and debates   \n",
       "...                                                    ...   \n",
       "4999995                The wrecking of the Vergulde Draeck   \n",
       "4999996                                 Arrival in Batavia   \n",
       "4999997                                    Rescue Attempts   \n",
       "4999998                   Discovery of the Vergulde Draeck   \n",
       "4999999  Letters written by the survivors of the Vergul...   \n",
       "\n",
       "                                              SECTION_TEXT  \n",
       "0        \\n\\n\\n\\n\\n\\n'''Anarchism''' is a political phi...  \n",
       "1        \\n\\nThe term ''anarchism'' is a compound word ...  \n",
       "2        \\n\\n===Origins===\\nWoodcut from a Diggers docu...  \n",
       "3        \\nPortrait of philosopher Pierre-Joseph Proudh...  \n",
       "4        \\nconsistent with anarchist values is a contro...  \n",
       "...                                                    ...  \n",
       "4999995  In 1656 the Vergulde Draeck set sail from the ...  \n",
       "4999996  On 7 May 1656 approximately nine days after th...  \n",
       "4999997  A number of rescue attempts was conducted by t...  \n",
       "4999998  The Vergulde Draeck was discovered on 13 April...  \n",
       "4999999  In March 2015 Steve Caffery of Gilt Dragon Res...  \n",
       "\n",
       "[5000000 rows x 4 columns]"
      ]
     },
     "execution_count": 7,
     "metadata": {},
     "output_type": "execute_result"
    }
   ],
   "source": [
    "df"
   ]
  },
  {
   "cell_type": "code",
   "execution_count": 8,
   "id": "443d1c42-f2c4-4f18-8de9-a1adc8596328",
   "metadata": {},
   "outputs": [
    {
     "name": "stdout",
     "output_type": "stream",
     "text": [
      "<class 'pandas.core.frame.DataFrame'>\n",
      "RangeIndex: 5000000 entries, 0 to 4999999\n",
      "Data columns (total 4 columns):\n",
      " #   Column         Dtype \n",
      "---  ------         ----- \n",
      " 0   ARTICLE_ID     int64 \n",
      " 1   TITLE          object\n",
      " 2   SECTION_TITLE  object\n",
      " 3   SECTION_TEXT   object\n",
      "dtypes: int64(1), object(3)\n",
      "memory usage: 152.6+ MB\n",
      "None\n"
     ]
    }
   ],
   "source": [
    "print(df.info())\n"
   ]
  },
  {
   "cell_type": "code",
   "execution_count": 9,
   "id": "3c1085bd-0ca1-4e3a-94a5-83052e9d6865",
   "metadata": {},
   "outputs": [],
   "source": [
    "relevant_columns = ['ARTICLE_ID', 'SECTION_TEXT']\n",
    "df = df[relevant_columns]"
   ]
  },
  {
   "cell_type": "code",
   "execution_count": 10,
   "id": "8ed6b84e-d4e7-4531-87ca-b02affcca2f1",
   "metadata": {},
   "outputs": [
    {
     "data": {
      "text/html": [
       "<div>\n",
       "<style scoped>\n",
       "    .dataframe tbody tr th:only-of-type {\n",
       "        vertical-align: middle;\n",
       "    }\n",
       "\n",
       "    .dataframe tbody tr th {\n",
       "        vertical-align: top;\n",
       "    }\n",
       "\n",
       "    .dataframe thead th {\n",
       "        text-align: right;\n",
       "    }\n",
       "</style>\n",
       "<table border=\"1\" class=\"dataframe\">\n",
       "  <thead>\n",
       "    <tr style=\"text-align: right;\">\n",
       "      <th></th>\n",
       "      <th>ARTICLE_ID</th>\n",
       "      <th>SECTION_TEXT</th>\n",
       "    </tr>\n",
       "  </thead>\n",
       "  <tbody>\n",
       "    <tr>\n",
       "      <th>0</th>\n",
       "      <td>0</td>\n",
       "      <td>\\n\\n\\n\\n\\n\\n'''Anarchism''' is a political phi...</td>\n",
       "    </tr>\n",
       "    <tr>\n",
       "      <th>1</th>\n",
       "      <td>0</td>\n",
       "      <td>\\n\\nThe term ''anarchism'' is a compound word ...</td>\n",
       "    </tr>\n",
       "    <tr>\n",
       "      <th>2</th>\n",
       "      <td>0</td>\n",
       "      <td>\\n\\n===Origins===\\nWoodcut from a Diggers docu...</td>\n",
       "    </tr>\n",
       "    <tr>\n",
       "      <th>3</th>\n",
       "      <td>0</td>\n",
       "      <td>\\nPortrait of philosopher Pierre-Joseph Proudh...</td>\n",
       "    </tr>\n",
       "    <tr>\n",
       "      <th>4</th>\n",
       "      <td>0</td>\n",
       "      <td>\\nconsistent with anarchist values is a contro...</td>\n",
       "    </tr>\n",
       "  </tbody>\n",
       "</table>\n",
       "</div>"
      ],
      "text/plain": [
       "   ARTICLE_ID                                       SECTION_TEXT\n",
       "0           0  \\n\\n\\n\\n\\n\\n'''Anarchism''' is a political phi...\n",
       "1           0  \\n\\nThe term ''anarchism'' is a compound word ...\n",
       "2           0  \\n\\n===Origins===\\nWoodcut from a Diggers docu...\n",
       "3           0  \\nPortrait of philosopher Pierre-Joseph Proudh...\n",
       "4           0  \\nconsistent with anarchist values is a contro..."
      ]
     },
     "execution_count": 10,
     "metadata": {},
     "output_type": "execute_result"
    }
   ],
   "source": [
    "df.head()"
   ]
  },
  {
   "cell_type": "code",
   "execution_count": 11,
   "id": "4d0d6bb9-1e9e-437f-8ba7-eefb9d561f82",
   "metadata": {},
   "outputs": [
    {
     "name": "stdout",
     "output_type": "stream",
     "text": [
      "ARTICLE_ID         0\n",
      "SECTION_TEXT    3751\n",
      "dtype: int64\n"
     ]
    }
   ],
   "source": [
    "print(df.isnull().sum())"
   ]
  },
  {
   "cell_type": "code",
   "execution_count": 12,
   "id": "c9d9d9d0-9ba3-400a-a47b-7946282ef2ce",
   "metadata": {},
   "outputs": [
    {
     "data": {
      "text/html": [
       "<div>\n",
       "<style scoped>\n",
       "    .dataframe tbody tr th:only-of-type {\n",
       "        vertical-align: middle;\n",
       "    }\n",
       "\n",
       "    .dataframe tbody tr th {\n",
       "        vertical-align: top;\n",
       "    }\n",
       "\n",
       "    .dataframe thead th {\n",
       "        text-align: right;\n",
       "    }\n",
       "</style>\n",
       "<table border=\"1\" class=\"dataframe\">\n",
       "  <thead>\n",
       "    <tr style=\"text-align: right;\">\n",
       "      <th></th>\n",
       "      <th>ARTICLE_ID</th>\n",
       "      <th>SECTION_TEXT</th>\n",
       "    </tr>\n",
       "  </thead>\n",
       "  <tbody>\n",
       "    <tr>\n",
       "      <th>0</th>\n",
       "      <td>0</td>\n",
       "      <td>\\n\\n\\n\\n\\n\\n'''Anarchism''' is a political phi...</td>\n",
       "    </tr>\n",
       "    <tr>\n",
       "      <th>1</th>\n",
       "      <td>0</td>\n",
       "      <td>\\n\\nThe term ''anarchism'' is a compound word ...</td>\n",
       "    </tr>\n",
       "    <tr>\n",
       "      <th>2</th>\n",
       "      <td>0</td>\n",
       "      <td>\\n\\n===Origins===\\nWoodcut from a Diggers docu...</td>\n",
       "    </tr>\n",
       "    <tr>\n",
       "      <th>3</th>\n",
       "      <td>0</td>\n",
       "      <td>\\nPortrait of philosopher Pierre-Joseph Proudh...</td>\n",
       "    </tr>\n",
       "    <tr>\n",
       "      <th>4</th>\n",
       "      <td>0</td>\n",
       "      <td>\\nconsistent with anarchist values is a contro...</td>\n",
       "    </tr>\n",
       "  </tbody>\n",
       "</table>\n",
       "</div>"
      ],
      "text/plain": [
       "   ARTICLE_ID                                       SECTION_TEXT\n",
       "0           0  \\n\\n\\n\\n\\n\\n'''Anarchism''' is a political phi...\n",
       "1           0  \\n\\nThe term ''anarchism'' is a compound word ...\n",
       "2           0  \\n\\n===Origins===\\nWoodcut from a Diggers docu...\n",
       "3           0  \\nPortrait of philosopher Pierre-Joseph Proudh...\n",
       "4           0  \\nconsistent with anarchist values is a contro..."
      ]
     },
     "execution_count": 12,
     "metadata": {},
     "output_type": "execute_result"
    }
   ],
   "source": [
    "df= df.dropna(subset=['SECTION_TEXT'])\n",
    "\n",
    "df.head()"
   ]
  },
  {
   "cell_type": "code",
   "execution_count": 13,
   "id": "2368a47e-64c2-46aa-a99d-56628154bd90",
   "metadata": {},
   "outputs": [
    {
     "name": "stdout",
     "output_type": "stream",
     "text": [
      "ARTICLE_ID      0\n",
      "SECTION_TEXT    0\n",
      "dtype: int64\n"
     ]
    }
   ],
   "source": [
    "print(df.isnull().sum())"
   ]
  },
  {
   "cell_type": "code",
   "execution_count": 14,
   "id": "7d9b5a63",
   "metadata": {},
   "outputs": [],
   "source": [
    "df.to_csv(r\"D:\\Study Material\\semester 6\\Big Data\\Assignments\\Ass2\\dataset1.csv\", index=False)"
   ]
  },
  {
   "cell_type": "code",
   "execution_count": null,
   "id": "3a580739",
   "metadata": {},
   "outputs": [],
   "source": []
  },
  {
   "cell_type": "code",
   "execution_count": null,
   "id": "f384966f",
   "metadata": {},
   "outputs": [],
   "source": []
  },
  {
   "cell_type": "markdown",
   "id": "a506777e",
   "metadata": {},
   "source": [
    "# Remove stop words and punctuation"
   ]
  },
  {
   "cell_type": "code",
   "execution_count": 2,
   "id": "e6392588",
   "metadata": {},
   "outputs": [
    {
     "data": {
      "text/html": [
       "<div>\n",
       "<style scoped>\n",
       "    .dataframe tbody tr th:only-of-type {\n",
       "        vertical-align: middle;\n",
       "    }\n",
       "\n",
       "    .dataframe tbody tr th {\n",
       "        vertical-align: top;\n",
       "    }\n",
       "\n",
       "    .dataframe thead th {\n",
       "        text-align: right;\n",
       "    }\n",
       "</style>\n",
       "<table border=\"1\" class=\"dataframe\">\n",
       "  <thead>\n",
       "    <tr style=\"text-align: right;\">\n",
       "      <th></th>\n",
       "      <th>ARTICLE_ID</th>\n",
       "      <th>SECTION_TEXT</th>\n",
       "    </tr>\n",
       "  </thead>\n",
       "  <tbody>\n",
       "    <tr>\n",
       "      <th>0</th>\n",
       "      <td>0</td>\n",
       "      <td>\\n\\n\\n\\n\\n\\n'''Anarchism''' is a political phi...</td>\n",
       "    </tr>\n",
       "    <tr>\n",
       "      <th>1</th>\n",
       "      <td>0</td>\n",
       "      <td>\\n\\nThe term ''anarchism'' is a compound word ...</td>\n",
       "    </tr>\n",
       "    <tr>\n",
       "      <th>2</th>\n",
       "      <td>0</td>\n",
       "      <td>\\n\\n===Origins===\\nWoodcut from a Diggers docu...</td>\n",
       "    </tr>\n",
       "    <tr>\n",
       "      <th>3</th>\n",
       "      <td>0</td>\n",
       "      <td>\\nPortrait of philosopher Pierre-Joseph Proudh...</td>\n",
       "    </tr>\n",
       "    <tr>\n",
       "      <th>4</th>\n",
       "      <td>0</td>\n",
       "      <td>\\nconsistent with anarchist values is a contro...</td>\n",
       "    </tr>\n",
       "  </tbody>\n",
       "</table>\n",
       "</div>"
      ],
      "text/plain": [
       "   ARTICLE_ID                                       SECTION_TEXT\n",
       "0           0  \\n\\n\\n\\n\\n\\n'''Anarchism''' is a political phi...\n",
       "1           0  \\n\\nThe term ''anarchism'' is a compound word ...\n",
       "2           0  \\n\\n===Origins===\\nWoodcut from a Diggers docu...\n",
       "3           0  \\nPortrait of philosopher Pierre-Joseph Proudh...\n",
       "4           0  \\nconsistent with anarchist values is a contro..."
      ]
     },
     "execution_count": 2,
     "metadata": {},
     "output_type": "execute_result"
    }
   ],
   "source": [
    "file_path = r\"D:\\Study Material\\semester 6\\Big Data\\Assignments\\Ass2\\dataset1.csv\"\n",
    "\n",
    "# Read the CSV file into a DataFrame\n",
    "df = pd.read_csv(file_path)\n",
    "\n",
    "# Display the first few rows of the DataFrame\n",
    "df.head()"
   ]
  },
  {
   "cell_type": "code",
   "execution_count": 7,
   "id": "bcec5310",
   "metadata": {},
   "outputs": [],
   "source": [
    "# Set up stop words and punctuation\n",
    "stop_words = set(stopwords.words('english'))\n",
    "punctuation = set(string.punctuation)\n"
   ]
  },
  {
   "cell_type": "code",
   "execution_count": 21,
   "id": "f2efa005",
   "metadata": {},
   "outputs": [
    {
     "name": "stderr",
     "output_type": "stream",
     "text": [
      "100%|██████████████████████████████████████████████████████████████████████████████| 4997/4997 [19:39<00:00,  4.24it/s]\n"
     ]
    }
   ],
   "source": [
    "def preprocess_text(tokens):\n",
    "    # Remove stop words and punctuation\n",
    "    tokens = [token for token in tokens if token not in stop_words and token not in punctuation]\n",
    "    \n",
    "    return tokens\n",
    "\n",
    "\n",
    "# Define chunk size\n",
    "chunk_size = 1000\n",
    "\n",
    "# Get the total number of chunks\n",
    "total_chunks = int(np.ceil(len(df) / chunk_size))\n",
    "\n",
    "# Apply preprocessing to the 'SECTION_TEXT' column of the DataFrame with tqdm\n",
    "with tqdm.tqdm(total=total_chunks) as pbar:\n",
    "    for i in range(total_chunks):\n",
    "        start_idx = i * chunk_size\n",
    "        end_idx = min((i + 1) * chunk_size, len(df))\n",
    "        df.loc[start_idx:end_idx, 'SECTION_TEXT'] = df.loc[start_idx:end_idx, 'SECTION_TEXT'].apply(preprocess_text)\n",
    "        pbar.update(1)"
   ]
  },
  {
   "cell_type": "code",
   "execution_count": null,
   "id": "252e30ec",
   "metadata": {},
   "outputs": [],
   "source": []
  },
  {
   "cell_type": "code",
   "execution_count": null,
   "id": "2f1bdefd",
   "metadata": {},
   "outputs": [],
   "source": []
  },
  {
   "cell_type": "markdown",
   "id": "b575e2ed",
   "metadata": {},
   "source": [
    "# Preprocess Data "
   ]
  },
  {
   "cell_type": "code",
   "execution_count": 11,
   "id": "4b5644a4-ffd8-46de-97e2-4e4779db3b6e",
   "metadata": {},
   "outputs": [
    {
     "name": "stderr",
     "output_type": "stream",
     "text": [
      "100%|████████████████████████████████████████████████████████████████████████████| 4997/4997 [1:45:59<00:00,  1.27s/it]\n"
     ]
    },
    {
     "name": "stdout",
     "output_type": "stream",
     "text": [
      "Total time taken for preprocessing: 6477.96 seconds\n"
     ]
    }
   ],
   "source": [
    "# Function to preprocess text\n",
    "def preprocess_text(text):\n",
    "    # Convert text to lowercase\n",
    "    text = text.lower()\n",
    "    # Tokenize the text\n",
    "    tokens = word_tokenize(text)\n",
    "    # Remove stop words, punctuation, and special characters\n",
    "    stop_words = set(stopwords.words('english'))\n",
    "    tokens = [re.sub(r'[^\\w\\s]', '', token) for token in tokens if token.strip() and token not in stop_words and token not in string.punctuation]\n",
    "    # Remove empty strings\n",
    "    tokens = list(filter(None, tokens))\n",
    "    return tokens\n",
    "\n",
    "\n",
    "\n",
    "# Function to preprocess text in chunks and write to disk\n",
    "def preprocess_text_in_chunks(data, chunk_size):\n",
    "    total_chunks = len(data) // chunk_size + 1\n",
    "    temp_dir = tempfile.mkdtemp()  # Create a temporary directory to store processed chunks\n",
    "    chunk_filenames = []  # List to store filenames of processed chunks\n",
    "    with tqdm(total=total_chunks) as pbar:\n",
    "        for i, chunk in enumerate(chunk_generator(data, chunk_size)):\n",
    "            processed_chunk = chunk.copy()\n",
    "            processed_chunk['SECTION_TEXT'] = processed_chunk['SECTION_TEXT'].apply(preprocess_text)\n",
    "            chunk_filename = os.path.join(temp_dir, f'chunk_{i}.csv')\n",
    "            processed_chunk.to_csv(chunk_filename, index=False)\n",
    "            chunk_filenames.append(chunk_filename)\n",
    "            pbar.update(1)\n",
    "    return chunk_filenames\n",
    "\n",
    "\n",
    "\n",
    "# Function to read and concatenate processed chunks from disk\n",
    "def concatenate_processed_chunks(chunk_filenames):\n",
    "    processed_chunks = [pd.read_csv(filename) for filename in chunk_filenames]\n",
    "    return pd.concat(processed_chunks, ignore_index=True)\n",
    "\n",
    "\n",
    "\n",
    "# Define chunk generator\n",
    "def chunk_generator(data, chunk_size):\n",
    "    for i in range(0, len(data), chunk_size):\n",
    "        yield data[i:i+chunk_size]\n",
    "\n",
    "\n",
    "        \n",
    "        \n",
    "# Define chunk size\n",
    "chunk_size = 1000\n",
    "total_start_time = time.time()\n",
    "\n",
    "# Preprocess text in chunks and write to disk\n",
    "processed_chunk_filenames = preprocess_text_in_chunks(df, chunk_size)\n",
    "\n",
    "# Read and concatenate processed chunks from disk\n",
    "processed_df = concatenate_processed_chunks(processed_chunk_filenames)\n",
    "\n",
    "# Clean up temporary files\n",
    "for filename in processed_chunk_filenames:\n",
    "    os.remove(filename)\n",
    "os.rmdir(os.path.dirname(processed_chunk_filenames[0]))\n",
    "\n",
    "total_end_time = time.time()\n",
    "\n",
    "\n",
    "total_time_taken = total_end_time - total_start_time\n",
    "print(\"Total time taken for preprocessing: {:.2f} seconds\".format(total_time_taken))\n"
   ]
  },
  {
   "cell_type": "code",
   "execution_count": 16,
   "id": "d200c3af",
   "metadata": {},
   "outputs": [],
   "source": [
    "processed_df.to_csv(r\"D:\\Study Material\\semester 6\\Big Data\\Assignments\\Ass2\\finalprepro.csv\", index=False)"
   ]
  },
  {
   "cell_type": "code",
   "execution_count": 18,
   "id": "890969c1",
   "metadata": {},
   "outputs": [
    {
     "data": {
      "text/html": [
       "<div>\n",
       "<style scoped>\n",
       "    .dataframe tbody tr th:only-of-type {\n",
       "        vertical-align: middle;\n",
       "    }\n",
       "\n",
       "    .dataframe tbody tr th {\n",
       "        vertical-align: top;\n",
       "    }\n",
       "\n",
       "    .dataframe thead th {\n",
       "        text-align: right;\n",
       "    }\n",
       "</style>\n",
       "<table border=\"1\" class=\"dataframe\">\n",
       "  <thead>\n",
       "    <tr style=\"text-align: right;\">\n",
       "      <th></th>\n",
       "      <th>ARTICLE_ID</th>\n",
       "      <th>SECTION_TEXT</th>\n",
       "    </tr>\n",
       "  </thead>\n",
       "  <tbody>\n",
       "    <tr>\n",
       "      <th>0</th>\n",
       "      <td>0</td>\n",
       "      <td>['anarchism', 'political', 'philosophy', 'advo...</td>\n",
       "    </tr>\n",
       "    <tr>\n",
       "      <th>1</th>\n",
       "      <td>0</td>\n",
       "      <td>['term', 'anarchism', 'compound', 'word', 'com...</td>\n",
       "    </tr>\n",
       "    <tr>\n",
       "      <th>2</th>\n",
       "      <td>0</td>\n",
       "      <td>['origins', 'woodcut', 'diggers', 'document', ...</td>\n",
       "    </tr>\n",
       "    <tr>\n",
       "      <th>3</th>\n",
       "      <td>0</td>\n",
       "      <td>['portrait', 'philosopher', 'pierrejoseph', 'p...</td>\n",
       "    </tr>\n",
       "    <tr>\n",
       "      <th>4</th>\n",
       "      <td>0</td>\n",
       "      <td>['consistent', 'anarchist', 'values', 'controv...</td>\n",
       "    </tr>\n",
       "    <tr>\n",
       "      <th>...</th>\n",
       "      <td>...</td>\n",
       "      <td>...</td>\n",
       "    </tr>\n",
       "    <tr>\n",
       "      <th>4996244</th>\n",
       "      <td>816930</td>\n",
       "      <td>['1656', 'vergulde', 'draeck', 'set', 'sail', ...</td>\n",
       "    </tr>\n",
       "    <tr>\n",
       "      <th>4996245</th>\n",
       "      <td>816930</td>\n",
       "      <td>['7', 'may', '1656', 'approximately', 'nine', ...</td>\n",
       "    </tr>\n",
       "    <tr>\n",
       "      <th>4996246</th>\n",
       "      <td>816930</td>\n",
       "      <td>['number', 'rescue', 'attempts', 'conducted', ...</td>\n",
       "    </tr>\n",
       "    <tr>\n",
       "      <th>4996247</th>\n",
       "      <td>816930</td>\n",
       "      <td>['vergulde', 'draeck', 'discovered', '13', 'ap...</td>\n",
       "    </tr>\n",
       "    <tr>\n",
       "      <th>4996248</th>\n",
       "      <td>816930</td>\n",
       "      <td>['march', '2015', 'steve', 'caffery', 'gilt', ...</td>\n",
       "    </tr>\n",
       "  </tbody>\n",
       "</table>\n",
       "<p>4996249 rows × 2 columns</p>\n",
       "</div>"
      ],
      "text/plain": [
       "         ARTICLE_ID                                       SECTION_TEXT\n",
       "0                 0  ['anarchism', 'political', 'philosophy', 'advo...\n",
       "1                 0  ['term', 'anarchism', 'compound', 'word', 'com...\n",
       "2                 0  ['origins', 'woodcut', 'diggers', 'document', ...\n",
       "3                 0  ['portrait', 'philosopher', 'pierrejoseph', 'p...\n",
       "4                 0  ['consistent', 'anarchist', 'values', 'controv...\n",
       "...             ...                                                ...\n",
       "4996244      816930  ['1656', 'vergulde', 'draeck', 'set', 'sail', ...\n",
       "4996245      816930  ['7', 'may', '1656', 'approximately', 'nine', ...\n",
       "4996246      816930  ['number', 'rescue', 'attempts', 'conducted', ...\n",
       "4996247      816930  ['vergulde', 'draeck', 'discovered', '13', 'ap...\n",
       "4996248      816930  ['march', '2015', 'steve', 'caffery', 'gilt', ...\n",
       "\n",
       "[4996249 rows x 2 columns]"
      ]
     },
     "execution_count": 18,
     "metadata": {},
     "output_type": "execute_result"
    }
   ],
   "source": [
    "processed_df"
   ]
  },
  {
   "cell_type": "code",
   "execution_count": null,
   "id": "94bc3675",
   "metadata": {},
   "outputs": [],
   "source": []
  },
  {
   "cell_type": "code",
   "execution_count": null,
   "id": "27944082",
   "metadata": {},
   "outputs": [],
   "source": []
  },
  {
   "cell_type": "markdown",
   "id": "1c1fb4d8",
   "metadata": {},
   "source": [
    "## Group by ARTICLE_ID and concatenate the SECTION_TEXT column"
   ]
  },
  {
   "cell_type": "code",
   "execution_count": 2,
   "id": "8ca2da78",
   "metadata": {},
   "outputs": [
    {
     "data": {
      "text/html": [
       "<div>\n",
       "<style scoped>\n",
       "    .dataframe tbody tr th:only-of-type {\n",
       "        vertical-align: middle;\n",
       "    }\n",
       "\n",
       "    .dataframe tbody tr th {\n",
       "        vertical-align: top;\n",
       "    }\n",
       "\n",
       "    .dataframe thead th {\n",
       "        text-align: right;\n",
       "    }\n",
       "</style>\n",
       "<table border=\"1\" class=\"dataframe\">\n",
       "  <thead>\n",
       "    <tr style=\"text-align: right;\">\n",
       "      <th></th>\n",
       "      <th>ARTICLE_ID</th>\n",
       "      <th>SECTION_TEXT</th>\n",
       "    </tr>\n",
       "  </thead>\n",
       "  <tbody>\n",
       "    <tr>\n",
       "      <th>0</th>\n",
       "      <td>0</td>\n",
       "      <td>['anarchism', 'political', 'philosophy', 'advo...</td>\n",
       "    </tr>\n",
       "    <tr>\n",
       "      <th>1</th>\n",
       "      <td>0</td>\n",
       "      <td>['term', 'anarchism', 'compound', 'word', 'com...</td>\n",
       "    </tr>\n",
       "    <tr>\n",
       "      <th>2</th>\n",
       "      <td>0</td>\n",
       "      <td>['origins', 'woodcut', 'diggers', 'document', ...</td>\n",
       "    </tr>\n",
       "    <tr>\n",
       "      <th>3</th>\n",
       "      <td>0</td>\n",
       "      <td>['portrait', 'philosopher', 'pierrejoseph', 'p...</td>\n",
       "    </tr>\n",
       "    <tr>\n",
       "      <th>4</th>\n",
       "      <td>0</td>\n",
       "      <td>['consistent', 'anarchist', 'values', 'controv...</td>\n",
       "    </tr>\n",
       "  </tbody>\n",
       "</table>\n",
       "</div>"
      ],
      "text/plain": [
       "   ARTICLE_ID                                       SECTION_TEXT\n",
       "0           0  ['anarchism', 'political', 'philosophy', 'advo...\n",
       "1           0  ['term', 'anarchism', 'compound', 'word', 'com...\n",
       "2           0  ['origins', 'woodcut', 'diggers', 'document', ...\n",
       "3           0  ['portrait', 'philosopher', 'pierrejoseph', 'p...\n",
       "4           0  ['consistent', 'anarchist', 'values', 'controv..."
      ]
     },
     "execution_count": 2,
     "metadata": {},
     "output_type": "execute_result"
    }
   ],
   "source": [
    "file_path = r\"D:\\Study Material\\semester 6\\Big Data\\Assignments\\Ass2\\finalprepro.csv\"\n",
    "\n",
    "# Read the CSV file into a DataFrame\n",
    "df1 = pd.read_csv(file_path)\n",
    "\n",
    "# Display the first few rows of the DataFrame\n",
    "df1.head()"
   ]
  },
  {
   "cell_type": "code",
   "execution_count": 3,
   "id": "eea05460",
   "metadata": {},
   "outputs": [
    {
     "data": {
      "text/plain": [
       "dtype('O')"
      ]
     },
     "execution_count": 3,
     "metadata": {},
     "output_type": "execute_result"
    }
   ],
   "source": [
    "df1['SECTION_TEXT'].dtype"
   ]
  },
  {
   "cell_type": "code",
   "execution_count": 4,
   "id": "1c8d3e9d",
   "metadata": {},
   "outputs": [
    {
     "name": "stdout",
     "output_type": "stream",
     "text": [
      "Duplicate ARTICLE_ID values:\n",
      "0               0\n",
      "1               0\n",
      "2               0\n",
      "3               0\n",
      "4               0\n",
      "            ...  \n",
      "4996244    816930\n",
      "4996245    816930\n",
      "4996246    816930\n",
      "4996247    816930\n",
      "4996248    816930\n",
      "Name: ARTICLE_ID, Length: 4959240, dtype: int64\n"
     ]
    }
   ],
   "source": [
    "# Find duplicate ARTICLE_ID values\n",
    "duplicate_article_ids = df1[df1.duplicated(subset='ARTICLE_ID', keep=False)]['ARTICLE_ID']\n",
    "\n",
    "# Print the duplicate ARTICLE_ID values\n",
    "print(\"Duplicate ARTICLE_ID values:\")\n",
    "print(duplicate_article_ids)\n"
   ]
  },
  {
   "cell_type": "code",
   "execution_count": 5,
   "id": "3e6316ce",
   "metadata": {},
   "outputs": [
    {
     "name": "stdout",
     "output_type": "stream",
     "text": [
      "<class 'pandas.core.frame.DataFrame'>\n",
      "RangeIndex: 4996249 entries, 0 to 4996248\n",
      "Data columns (total 2 columns):\n",
      " #   Column        Dtype \n",
      "---  ------        ----- \n",
      " 0   ARTICLE_ID    int64 \n",
      " 1   SECTION_TEXT  object\n",
      "dtypes: int64(1), object(1)\n",
      "memory usage: 76.2+ MB\n"
     ]
    }
   ],
   "source": [
    "df1.info()"
   ]
  },
  {
   "cell_type": "code",
   "execution_count": 6,
   "id": "5ff1a3de",
   "metadata": {},
   "outputs": [
    {
     "name": "stdout",
     "output_type": "stream",
     "text": [
      "Type of entry: <class 'str'>\n"
     ]
    }
   ],
   "source": [
    "# Check the type of the first entry in the 'SECTION_TEXT' column\n",
    "entry_type = type(df1.loc[0, 'SECTION_TEXT'])\n",
    "\n",
    "print(\"Type of entry:\", entry_type)\n"
   ]
  },
  {
   "cell_type": "code",
   "execution_count": 8,
   "id": "35a37d0d",
   "metadata": {},
   "outputs": [],
   "source": [
    "first_df1_row = df1.iloc[0]"
   ]
  },
  {
   "cell_type": "code",
   "execution_count": 9,
   "id": "37ece46d",
   "metadata": {},
   "outputs": [
    {
     "name": "stdout",
     "output_type": "stream",
     "text": [
      "1347\n"
     ]
    }
   ],
   "source": [
    "print(len(first_df1_row['SECTION_TEXT']))"
   ]
  },
  {
   "cell_type": "code",
   "execution_count": 10,
   "id": "2238aa67",
   "metadata": {},
   "outputs": [],
   "source": [
    "# Group by ARTICLE_ID and concatenate the SECTION_TEXT column\n",
    "concatted_df = df1.groupby('ARTICLE_ID')['SECTION_TEXT'].apply(lambda x: ' '.join(x)).reset_index()"
   ]
  },
  {
   "cell_type": "code",
   "execution_count": 11,
   "id": "57867f66",
   "metadata": {},
   "outputs": [
    {
     "data": {
      "text/html": [
       "<div>\n",
       "<style scoped>\n",
       "    .dataframe tbody tr th:only-of-type {\n",
       "        vertical-align: middle;\n",
       "    }\n",
       "\n",
       "    .dataframe tbody tr th {\n",
       "        vertical-align: top;\n",
       "    }\n",
       "\n",
       "    .dataframe thead th {\n",
       "        text-align: right;\n",
       "    }\n",
       "</style>\n",
       "<table border=\"1\" class=\"dataframe\">\n",
       "  <thead>\n",
       "    <tr style=\"text-align: right;\">\n",
       "      <th></th>\n",
       "      <th>ARTICLE_ID</th>\n",
       "      <th>SECTION_TEXT</th>\n",
       "    </tr>\n",
       "  </thead>\n",
       "  <tbody>\n",
       "    <tr>\n",
       "      <th>0</th>\n",
       "      <td>0</td>\n",
       "      <td>['anarchism', 'political', 'philosophy', 'advo...</td>\n",
       "    </tr>\n",
       "    <tr>\n",
       "      <th>1</th>\n",
       "      <td>1</td>\n",
       "      <td>['autism', 'neurodevelopmental', 'disorder', '...</td>\n",
       "    </tr>\n",
       "    <tr>\n",
       "      <th>2</th>\n",
       "      <td>2</td>\n",
       "      <td>['percentage', 'diffusely', 'reflected', 'sunl...</td>\n",
       "    </tr>\n",
       "    <tr>\n",
       "      <th>3</th>\n",
       "      <td>3</td>\n",
       "      <td>['writing', 'cursive', 'forms', 'named', 'plur...</td>\n",
       "    </tr>\n",
       "    <tr>\n",
       "      <th>4</th>\n",
       "      <td>4</td>\n",
       "      <td>['alabama', 'state', 'southeastern', 'region',...</td>\n",
       "    </tr>\n",
       "  </tbody>\n",
       "</table>\n",
       "</div>"
      ],
      "text/plain": [
       "   ARTICLE_ID                                       SECTION_TEXT\n",
       "0           0  ['anarchism', 'political', 'philosophy', 'advo...\n",
       "1           1  ['autism', 'neurodevelopmental', 'disorder', '...\n",
       "2           2  ['percentage', 'diffusely', 'reflected', 'sunl...\n",
       "3           3  ['writing', 'cursive', 'forms', 'named', 'plur...\n",
       "4           4  ['alabama', 'state', 'southeastern', 'region',..."
      ]
     },
     "execution_count": 11,
     "metadata": {},
     "output_type": "execute_result"
    }
   ],
   "source": [
    "concatted_df.head()"
   ]
  },
  {
   "cell_type": "code",
   "execution_count": 18,
   "id": "372471f5",
   "metadata": {},
   "outputs": [],
   "source": [
    "first_df1_row = concatted_df.iloc[0]"
   ]
  },
  {
   "cell_type": "code",
   "execution_count": 19,
   "id": "463ab6c6",
   "metadata": {},
   "outputs": [
    {
     "name": "stdout",
     "output_type": "stream",
     "text": [
      "70790\n"
     ]
    }
   ],
   "source": [
    "print(len(first_df1_row['SECTION_TEXT']))"
   ]
  },
  {
   "cell_type": "code",
   "execution_count": 12,
   "id": "d7e509b1",
   "metadata": {},
   "outputs": [],
   "source": [
    "concatted_df.to_csv(r'D:\\Study Material\\semester 6\\Big Data\\Assignments\\Ass2\\bestdata.csv', index=False) \n"
   ]
  },
  {
   "cell_type": "code",
   "execution_count": null,
   "id": "ec02f8d4",
   "metadata": {},
   "outputs": [],
   "source": []
  },
  {
   "cell_type": "code",
   "execution_count": null,
   "id": "4e6ec77e",
   "metadata": {},
   "outputs": [],
   "source": []
  },
  {
   "cell_type": "markdown",
   "id": "99885670",
   "metadata": {},
   "source": [
    "# Creat Sample Data "
   ]
  },
  {
   "cell_type": "code",
   "execution_count": 13,
   "id": "4159c0d6",
   "metadata": {},
   "outputs": [
    {
     "data": {
      "text/html": [
       "<div>\n",
       "<style scoped>\n",
       "    .dataframe tbody tr th:only-of-type {\n",
       "        vertical-align: middle;\n",
       "    }\n",
       "\n",
       "    .dataframe tbody tr th {\n",
       "        vertical-align: top;\n",
       "    }\n",
       "\n",
       "    .dataframe thead th {\n",
       "        text-align: right;\n",
       "    }\n",
       "</style>\n",
       "<table border=\"1\" class=\"dataframe\">\n",
       "  <thead>\n",
       "    <tr style=\"text-align: right;\">\n",
       "      <th></th>\n",
       "      <th>ARTICLE_ID</th>\n",
       "      <th>SECTION_TEXT</th>\n",
       "    </tr>\n",
       "  </thead>\n",
       "  <tbody>\n",
       "    <tr>\n",
       "      <th>0</th>\n",
       "      <td>0</td>\n",
       "      <td>['anarchism', 'political', 'philosophy', 'advo...</td>\n",
       "    </tr>\n",
       "    <tr>\n",
       "      <th>1</th>\n",
       "      <td>1</td>\n",
       "      <td>['autism', 'neurodevelopmental', 'disorder', '...</td>\n",
       "    </tr>\n",
       "    <tr>\n",
       "      <th>2</th>\n",
       "      <td>2</td>\n",
       "      <td>['percentage', 'diffusely', 'reflected', 'sunl...</td>\n",
       "    </tr>\n",
       "    <tr>\n",
       "      <th>3</th>\n",
       "      <td>3</td>\n",
       "      <td>['writing', 'cursive', 'forms', 'named', 'plur...</td>\n",
       "    </tr>\n",
       "    <tr>\n",
       "      <th>4</th>\n",
       "      <td>4</td>\n",
       "      <td>['alabama', 'state', 'southeastern', 'region',...</td>\n",
       "    </tr>\n",
       "  </tbody>\n",
       "</table>\n",
       "</div>"
      ],
      "text/plain": [
       "   ARTICLE_ID                                       SECTION_TEXT\n",
       "0           0  ['anarchism', 'political', 'philosophy', 'advo...\n",
       "1           1  ['autism', 'neurodevelopmental', 'disorder', '...\n",
       "2           2  ['percentage', 'diffusely', 'reflected', 'sunl...\n",
       "3           3  ['writing', 'cursive', 'forms', 'named', 'plur...\n",
       "4           4  ['alabama', 'state', 'southeastern', 'region',..."
      ]
     },
     "execution_count": 13,
     "metadata": {},
     "output_type": "execute_result"
    }
   ],
   "source": [
    "file_path = r\"D:\\Study Material\\semester 6\\Big Data\\Assignments\\Ass2\\bestdata.csv\"\n",
    "\n",
    "# Read the CSV file into a DataFrame\n",
    "df = pd.read_csv(file_path)\n",
    "\n",
    "# Display the first few rows of the DataFrame\n",
    "df.head()"
   ]
  },
  {
   "cell_type": "code",
   "execution_count": 16,
   "id": "72556d82",
   "metadata": {},
   "outputs": [],
   "source": [
    "sample_df = df.head(2000)"
   ]
  },
  {
   "cell_type": "code",
   "execution_count": 17,
   "id": "30cbdcb0",
   "metadata": {},
   "outputs": [
    {
     "data": {
      "text/html": [
       "<div>\n",
       "<style scoped>\n",
       "    .dataframe tbody tr th:only-of-type {\n",
       "        vertical-align: middle;\n",
       "    }\n",
       "\n",
       "    .dataframe tbody tr th {\n",
       "        vertical-align: top;\n",
       "    }\n",
       "\n",
       "    .dataframe thead th {\n",
       "        text-align: right;\n",
       "    }\n",
       "</style>\n",
       "<table border=\"1\" class=\"dataframe\">\n",
       "  <thead>\n",
       "    <tr style=\"text-align: right;\">\n",
       "      <th></th>\n",
       "      <th>ARTICLE_ID</th>\n",
       "      <th>SECTION_TEXT</th>\n",
       "    </tr>\n",
       "  </thead>\n",
       "  <tbody>\n",
       "    <tr>\n",
       "      <th>0</th>\n",
       "      <td>0</td>\n",
       "      <td>['anarchism', 'political', 'philosophy', 'advo...</td>\n",
       "    </tr>\n",
       "    <tr>\n",
       "      <th>1</th>\n",
       "      <td>1</td>\n",
       "      <td>['autism', 'neurodevelopmental', 'disorder', '...</td>\n",
       "    </tr>\n",
       "    <tr>\n",
       "      <th>2</th>\n",
       "      <td>2</td>\n",
       "      <td>['percentage', 'diffusely', 'reflected', 'sunl...</td>\n",
       "    </tr>\n",
       "    <tr>\n",
       "      <th>3</th>\n",
       "      <td>3</td>\n",
       "      <td>['writing', 'cursive', 'forms', 'named', 'plur...</td>\n",
       "    </tr>\n",
       "    <tr>\n",
       "      <th>4</th>\n",
       "      <td>4</td>\n",
       "      <td>['alabama', 'state', 'southeastern', 'region',...</td>\n",
       "    </tr>\n",
       "    <tr>\n",
       "      <th>...</th>\n",
       "      <td>...</td>\n",
       "      <td>...</td>\n",
       "    </tr>\n",
       "    <tr>\n",
       "      <th>1995</th>\n",
       "      <td>1995</td>\n",
       "      <td>['bernard', 'clairvaux', 'ocist', '109020', 'a...</td>\n",
       "    </tr>\n",
       "    <tr>\n",
       "      <th>1996</th>\n",
       "      <td>1996</td>\n",
       "      <td>['bishkek', 'formerly', 'pishpek', 'frunze', '...</td>\n",
       "    </tr>\n",
       "    <tr>\n",
       "      <th>1997</th>\n",
       "      <td>1997</td>\n",
       "      <td>['braveheart', '1995', 'american', 'epic', 'wa...</td>\n",
       "    </tr>\n",
       "    <tr>\n",
       "      <th>1998</th>\n",
       "      <td>1998</td>\n",
       "      <td>['brian', 'wilson', 'aldiss', 'obe', 'born', '...</td>\n",
       "    </tr>\n",
       "    <tr>\n",
       "      <th>1999</th>\n",
       "      <td>1999</td>\n",
       "      <td>['battle', 'jutland', 'battle', 'skagerrak', '...</td>\n",
       "    </tr>\n",
       "  </tbody>\n",
       "</table>\n",
       "<p>2000 rows × 2 columns</p>\n",
       "</div>"
      ],
      "text/plain": [
       "      ARTICLE_ID                                       SECTION_TEXT\n",
       "0              0  ['anarchism', 'political', 'philosophy', 'advo...\n",
       "1              1  ['autism', 'neurodevelopmental', 'disorder', '...\n",
       "2              2  ['percentage', 'diffusely', 'reflected', 'sunl...\n",
       "3              3  ['writing', 'cursive', 'forms', 'named', 'plur...\n",
       "4              4  ['alabama', 'state', 'southeastern', 'region',...\n",
       "...          ...                                                ...\n",
       "1995        1995  ['bernard', 'clairvaux', 'ocist', '109020', 'a...\n",
       "1996        1996  ['bishkek', 'formerly', 'pishpek', 'frunze', '...\n",
       "1997        1997  ['braveheart', '1995', 'american', 'epic', 'wa...\n",
       "1998        1998  ['brian', 'wilson', 'aldiss', 'obe', 'born', '...\n",
       "1999        1999  ['battle', 'jutland', 'battle', 'skagerrak', '...\n",
       "\n",
       "[2000 rows x 2 columns]"
      ]
     },
     "execution_count": 17,
     "metadata": {},
     "output_type": "execute_result"
    }
   ],
   "source": [
    "sample_df"
   ]
  },
  {
   "cell_type": "code",
   "execution_count": 34,
   "id": "a86354f9",
   "metadata": {},
   "outputs": [],
   "source": [
    "first_df1_row = sample_df.iloc[0]"
   ]
  },
  {
   "cell_type": "code",
   "execution_count": 35,
   "id": "8df11659",
   "metadata": {},
   "outputs": [
    {
     "name": "stdout",
     "output_type": "stream",
     "text": [
      "70790\n"
     ]
    }
   ],
   "source": [
    "print(len(first_df1_row['SECTION_TEXT']))"
   ]
  },
  {
   "cell_type": "code",
   "execution_count": 36,
   "id": "51f30db2",
   "metadata": {},
   "outputs": [],
   "source": [
    "sample_df.to_csv(r'D:\\Study Material\\semester 6\\Big Data\\Assignments\\Ass2\\sample_data.csv', index=False) \n"
   ]
  },
  {
   "cell_type": "code",
   "execution_count": null,
   "id": "0b8b943a",
   "metadata": {},
   "outputs": [],
   "source": []
  }
 ],
 "metadata": {
  "kernelspec": {
   "display_name": "Python 3 (ipykernel)",
   "language": "python",
   "name": "python3"
  },
  "language_info": {
   "codemirror_mode": {
    "name": "ipython",
    "version": 3
   },
   "file_extension": ".py",
   "mimetype": "text/x-python",
   "name": "python",
   "nbconvert_exporter": "python",
   "pygments_lexer": "ipython3",
   "version": "3.9.12"
  }
 },
 "nbformat": 4,
 "nbformat_minor": 5
}
